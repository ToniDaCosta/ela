{
 "cells": [
  {
   "cell_type": "code",
   "execution_count": 2,
   "id": "a9cbbfe9",
   "metadata": {},
   "outputs": [],
   "source": [
    "import pandas as pd\n",
    "import matplotlib.pyplot as plt\n",
    "import seaborn as sns\n",
    "import datetime as dt\n",
    "import seaborn as sns"
   ]
  },
  {
   "cell_type": "code",
   "execution_count": 4,
   "id": "020e6be4",
   "metadata": {},
   "outputs": [],
   "source": [
    "orders = pd.read_csv(r\"C:\\Users\\ateso\\Desktop\\Flash\\orders.csv\")"
   ]
  },
  {
   "cell_type": "code",
   "execution_count": 5,
   "id": "f81edabd",
   "metadata": {},
   "outputs": [
    {
     "data": {
      "text/html": [
       "<div>\n",
       "<style scoped>\n",
       "    .dataframe tbody tr th:only-of-type {\n",
       "        vertical-align: middle;\n",
       "    }\n",
       "\n",
       "    .dataframe tbody tr th {\n",
       "        vertical-align: top;\n",
       "    }\n",
       "\n",
       "    .dataframe thead th {\n",
       "        text-align: right;\n",
       "    }\n",
       "</style>\n",
       "<table border=\"1\" class=\"dataframe\">\n",
       "  <thead>\n",
       "    <tr style=\"text-align: right;\">\n",
       "      <th></th>\n",
       "      <th>33557880</th>\n",
       "      <th>2019-03-10 23:59:59.000000</th>\n",
       "      <th>AR</th>\n",
       "      <th>14200</th>\n",
       "      <th>DeliveredStatus</th>\n",
       "      <th>PAID</th>\n",
       "      <th>1</th>\n",
       "      <th>4.54</th>\n",
       "      <th>8.64</th>\n",
       "    </tr>\n",
       "  </thead>\n",
       "  <tbody>\n",
       "    <tr>\n",
       "      <th>0</th>\n",
       "      <td>33512615</td>\n",
       "      <td>2019-03-10 23:58:32.000000</td>\n",
       "      <td>TR</td>\n",
       "      <td>28725</td>\n",
       "      <td>DeliveredStatus</td>\n",
       "      <td>PAID</td>\n",
       "      <td>1</td>\n",
       "      <td>3.76</td>\n",
       "      <td>3.76</td>\n",
       "    </tr>\n",
       "    <tr>\n",
       "      <th>1</th>\n",
       "      <td>33512451</td>\n",
       "      <td>2019-03-10 23:57:56.000000</td>\n",
       "      <td>TR</td>\n",
       "      <td>28725</td>\n",
       "      <td>DeliveredStatus</td>\n",
       "      <td>PAID</td>\n",
       "      <td>1</td>\n",
       "      <td>2.86</td>\n",
       "      <td>2.86</td>\n",
       "    </tr>\n",
       "    <tr>\n",
       "      <th>2</th>\n",
       "      <td>33530892</td>\n",
       "      <td>2019-03-10 23:57:33.000000</td>\n",
       "      <td>ES</td>\n",
       "      <td>19777</td>\n",
       "      <td>CanceledStatus</td>\n",
       "      <td>PAID</td>\n",
       "      <td>1</td>\n",
       "      <td>12.95</td>\n",
       "      <td>0.00</td>\n",
       "    </tr>\n",
       "    <tr>\n",
       "      <th>3</th>\n",
       "      <td>33557765</td>\n",
       "      <td>2019-03-10 23:57:21.000000</td>\n",
       "      <td>AR</td>\n",
       "      <td>34565</td>\n",
       "      <td>DeliveredStatus</td>\n",
       "      <td>PAID</td>\n",
       "      <td>2</td>\n",
       "      <td>2.86</td>\n",
       "      <td>6.48</td>\n",
       "    </tr>\n",
       "    <tr>\n",
       "      <th>4</th>\n",
       "      <td>33512273</td>\n",
       "      <td>2019-03-10 23:57:13.000000</td>\n",
       "      <td>TR</td>\n",
       "      <td>63536</td>\n",
       "      <td>DeliveredStatus</td>\n",
       "      <td>PAID</td>\n",
       "      <td>4</td>\n",
       "      <td>1.88</td>\n",
       "      <td>1.96</td>\n",
       "    </tr>\n",
       "  </tbody>\n",
       "</table>\n",
       "</div>"
      ],
      "text/plain": [
       "   33557880  2019-03-10 23:59:59.000000  AR  14200  DeliveredStatus  PAID  1  \\\n",
       "0  33512615  2019-03-10 23:58:32.000000  TR  28725  DeliveredStatus  PAID  1   \n",
       "1  33512451  2019-03-10 23:57:56.000000  TR  28725  DeliveredStatus  PAID  1   \n",
       "2  33530892  2019-03-10 23:57:33.000000  ES  19777   CanceledStatus  PAID  1   \n",
       "3  33557765  2019-03-10 23:57:21.000000  AR  34565  DeliveredStatus  PAID  2   \n",
       "4  33512273  2019-03-10 23:57:13.000000  TR  63536  DeliveredStatus  PAID  4   \n",
       "\n",
       "    4.54  8.64  \n",
       "0   3.76  3.76  \n",
       "1   2.86  2.86  \n",
       "2  12.95  0.00  \n",
       "3   2.86  6.48  \n",
       "4   1.88  1.96  "
      ]
     },
     "execution_count": 5,
     "metadata": {},
     "output_type": "execute_result"
    }
   ],
   "source": [
    "orders.head()"
   ]
  },
  {
   "cell_type": "code",
   "execution_count": null,
   "id": "173df394",
   "metadata": {},
   "outputs": [],
   "source": []
  }
 ],
 "metadata": {
  "kernelspec": {
   "display_name": "ironhack",
   "language": "python",
   "name": "ironhack"
  },
  "language_info": {
   "codemirror_mode": {
    "name": "ipython",
    "version": 3
   },
   "file_extension": ".py",
   "mimetype": "text/x-python",
   "name": "python",
   "nbconvert_exporter": "python",
   "pygments_lexer": "ipython3",
   "version": "3.11.5"
  }
 },
 "nbformat": 4,
 "nbformat_minor": 5
}
